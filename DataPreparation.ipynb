{
 "cells": [
  {
   "cell_type": "code",
   "execution_count": 72,
   "id": "5d0235fd",
   "metadata": {
    "scrolled": true
   },
   "outputs": [],
   "source": [
    "import numpy as np\n",
    "import pandas as pd\n",
    "\n",
    "from gutenberg.acquire import load_etext\n",
    "from gutenberg.cleanup import strip_headers\n",
    "\n",
    "text = strip_headers(load_etext(67138)).strip()\n"
   ]
  },
  {
   "cell_type": "code",
   "execution_count": 73,
   "id": "c728f755",
   "metadata": {},
   "outputs": [],
   "source": [
    "def extractParagraphs(text, paragraph_word_limit = 70):\n",
    "    paragraphs = text.split('\\n\\n')\n",
    "\n",
    "    filteredParagraphs = filter(lambda x: len(x.split(' ')) > paragraph_word_limit, paragraphs)\n",
    "\n",
    "    return list(filteredParagraphs)\n"
   ]
  },
  {
   "cell_type": "code",
   "execution_count": 17,
   "id": "16403e9a",
   "metadata": {},
   "outputs": [],
   "source": [
    "authors_and_books = {\n",
    "    \"Ernest Hemingway\": [\n",
    "        67138,\n",
    "        61085,\n",
    "        59603\n",
    "    ],\n",
    "    \"Mark Twain\": [\n",
    "        76,\n",
    "        74,\n",
    "        86\n",
    "    ],\n",
    "    \"Agatha Christie\": [\n",
    "        863,\n",
    "        61262,\n",
    "        58866\n",
    "    ],\n",
    "    \"Edgar Allan Poe\": [\n",
    "        2148,\n",
    "        2147,\n",
    "        932\n",
    "    ],\n",
    "    \"Jack London\": [\n",
    "        215,\n",
    "        910,\n",
    "        1074\n",
    "    ],\n",
    "    \"Charles Dickens\": [\n",
    "        98,\n",
    "        1400,\n",
    "        46\n",
    "    ],\n",
    "    \"Jane Austin\": [\n",
    "        21839,\n",
    "        67608,\n",
    "        17816\n",
    "    ],\n",
    "    \"George Eliot\": [\n",
    "        145,\n",
    "        550,\n",
    "        6688\n",
    "    ],\n",
    "    \"Arthur Conan Doyle\": [\n",
    "        1661,\n",
    "        2852,\n",
    "        244\n",
    "    ] \n",
    "}"
   ]
  },
  {
   "cell_type": "code",
   "execution_count": 70,
   "id": "9f479d9a",
   "metadata": {},
   "outputs": [],
   "source": [
    "def get_paragraphs_from_books(authors_and_books, paragraph_word_limit = 70, percetange_of_paragraphs = 0.1):\n",
    "\n",
    "    dataset = []\n",
    "\n",
    "    for author, book_ids in authors_and_books.items():\n",
    "            for book_id in book_ids:\n",
    "                    book = strip_headers(load_etext(book_id)).strip()\n",
    "\n",
    "                    paragraphs = extractParagraphs(book, paragraph_word_limit)\n",
    "                    \n",
    "                    totalParagraphs = len(paragraphs)\n",
    "                    \n",
    "                    selectedParagraphs = paragraphs[3 : int(percetange_of_paragraphs * totalParagraphs) + 3]\n",
    "                    \n",
    "                    for paragraph in selectedParagraphs:\n",
    "                            dataset.append([author, paragraph])\n",
    "    return dataset"
   ]
  },
  {
   "cell_type": "code",
   "execution_count": 71,
   "id": "1a50a1c4",
   "metadata": {},
   "outputs": [
    {
     "name": "stdout",
     "output_type": "stream",
     "text": [
      "Robert Cohn was a member, through his father, of one of the richest\n",
      "Jewish families in New York, and through his mother of one of the\n",
      "oldest. At the military school where he prepped for Princeton, and\n",
      "played a very good end on the football team, no one had made him\n",
      "race-conscious. No one had ever made him feel he was a Jew, and hence\n",
      "any different from anybody else, until he went to Princeton. He was a\n",
      "nice boy, a friendly boy, and very shy, and it made him bitter. He took\n",
      "it out in boxing, and he came out of Princeton with painful\n",
      "self-consciousness and the flattened nose, and was married by the first\n",
      "girl who was nice to him. He was married five years, had three children,\n",
      "lost most of the fifty thousand dollars his father left him, the balance\n",
      "of the estate having gone to his mother, hardened into a rather\n",
      "unattractive mould under domestic unhappiness with a rich wife; and just\n",
      "when he had made up his mind to leave his wife she left him and went off\n",
      "with a miniature-painter. As he had been thinking for months about\n",
      "leaving his wife and had not done it because it would be too cruel to\n",
      "deprive her of himself, her departure was a very healthful shock.\n"
     ]
    }
   ],
   "source": [
    "paragraphs = get_paragraphs_from_books(authors_and_books)\n",
    "print(paragraphs[0][1])"
   ]
  },
  {
   "cell_type": "code",
   "execution_count": null,
   "id": "738eabfe",
   "metadata": {},
   "outputs": [],
   "source": []
  }
 ],
 "metadata": {
  "kernelspec": {
   "display_name": "Python 3 (ipykernel)",
   "language": "python",
   "name": "python3"
  },
  "language_info": {
   "codemirror_mode": {
    "name": "ipython",
    "version": 3
   },
   "file_extension": ".py",
   "mimetype": "text/x-python",
   "name": "python",
   "nbconvert_exporter": "python",
   "pygments_lexer": "ipython3",
   "version": "3.9.7"
  }
 },
 "nbformat": 4,
 "nbformat_minor": 5
}
